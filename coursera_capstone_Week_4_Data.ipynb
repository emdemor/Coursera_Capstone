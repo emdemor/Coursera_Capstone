{
 "cells": [
  {
   "cell_type": "markdown",
   "metadata": {},
   "source": [
    "# Applied Data Science Capstone: most similar neighbourhood in another city\n",
    "*by Eduardo M. de Morais*\n"
   ]
  },
  {
   "cell_type": "markdown",
   "metadata": {},
   "source": [
    "# 2. Data"
   ]
  },
  {
   "cell_type": "markdown",
   "metadata": {},
   "source": [
    "**A** To complete our task, we will need to use some datasets for the analysis approach. First, we need to obtain a data source for the neighborhoods in each of the cities. This can be found on the website `www.guimais.com.br`:\n",
    "   - (São Paulo): https://www.guiamais.com.br/bairros/sao-paulo-sp\n",
    "   - (Rio de Janeiro): https://www.guiamais.com.br/bairros/rio-de-janeiro-rj\n",
    "   \n",
    "**B** The next step is obtain the coordinates for each neighbourhood. It can be done using the Normatim tool, from OpenStreetMap\n",
    "\n",
    "**C** With the neighbourhoods and its coordinates we can use de Foursquare API to get the venues in each neighbourhood."
   ]
  }
 ],
 "metadata": {
  "kernelspec": {
   "display_name": "Python 3",
   "language": "python",
   "name": "python3"
  },
  "language_info": {
   "codemirror_mode": {
    "name": "ipython",
    "version": 3
   },
   "file_extension": ".py",
   "mimetype": "text/x-python",
   "name": "python",
   "nbconvert_exporter": "python",
   "pygments_lexer": "ipython3",
   "version": "3.7.6"
  }
 },
 "nbformat": 4,
 "nbformat_minor": 4
}
